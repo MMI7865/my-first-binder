{
 "cells": [
  {
   "cell_type": "markdown",
   "id": "09cb65ba-1001-4b8a-9349-7ac417c1f314",
   "metadata": {},
   "source": [
    "# **Data Structures and Algorithms Notes 2**\n",
    "\n",
    "## Contents\n",
    "- [Binary Search](#binary-search)\n",
    "- [Binary Search Trees](#binary-search-trees)\n",
    "\n"
   ]
  },
  {
   "cell_type": "markdown",
   "id": "c92769a4-c05a-4c7c-8e34-e61d95ae0148",
   "metadata": {},
   "source": [
    "<a id=\"binary-search\"></a>\n",
    "## Binary Search\n",
    "\n",
    "Binary search is a common algorithm used to efficiently find an element in a sorted array.\n",
    "\n",
    "Here's a sample Python implementation of binary search:"
   ]
  },
  {
   "cell_type": "code",
   "execution_count": 1,
   "id": "2727fb09-abc6-4fab-87b5-5e1eca9114dc",
   "metadata": {
    "tags": []
   },
   "outputs": [],
   "source": [
    "def binary_search(arr, target):\n",
    "    left, right = 0, len(arr) - 1\n",
    "    \n",
    "    while left <= right:\n",
    "        mid = left + (right - left) // 2\n",
    "        \n",
    "        if arr[mid] == target:\n",
    "            return mid\n",
    "        elif arr[mid] < target:\n",
    "            left = mid + 1\n",
    "        else:\n",
    "            right = mid - 1\n",
    "    \n",
    "    return -1"
   ]
  },
  {
   "cell_type": "code",
   "execution_count": null,
   "id": "2752d517-3cde-44eb-a9dd-b934f352de5f",
   "metadata": {},
   "outputs": [],
   "source": []
  }
 ],
 "metadata": {
  "kernelspec": {
   "display_name": "Python 3 (ipykernel)",
   "language": "python",
   "name": "python3"
  },
  "language_info": {
   "codemirror_mode": {
    "name": "ipython",
    "version": 3
   },
   "file_extension": ".py",
   "mimetype": "text/x-python",
   "name": "python",
   "nbconvert_exporter": "python",
   "pygments_lexer": "ipython3",
   "version": "3.10.11"
  }
 },
 "nbformat": 4,
 "nbformat_minor": 5
}
